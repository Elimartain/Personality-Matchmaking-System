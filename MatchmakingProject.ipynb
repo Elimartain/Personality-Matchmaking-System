{
 "cells": [
  {
   "cell_type": "code",
   "execution_count": null,
   "metadata": {},
   "outputs": [],
   "source": [
    "import pandas as pd \n",
    "import numpy as np \n",
    "from sklearn.metrics import mean_squared_error\n"
   ]
  },
  {
   "cell_type": "code",
   "execution_count": null,
   "metadata": {},
   "outputs": [],
   "source": [
    "dataset= pd.read_csv('persons1.csv')\n",
    "dataset"
   ]
  },
  {
   "cell_type": "code",
   "execution_count": null,
   "metadata": {},
   "outputs": [],
   "source": [
    "personID= [\"Love_\"+str(x) for x in range(1,4110)]"
   ]
  },
  {
   "cell_type": "code",
   "execution_count": null,
   "metadata": {},
   "outputs": [],
   "source": [
    "dataset.describe()"
   ]
  },
  {
   "cell_type": "code",
   "execution_count": null,
   "metadata": {},
   "outputs": [],
   "source": [
    "dataset.insert(0,\"LoveID\", personID)\n",
    "dataset"
   ]
  },
  {
   "cell_type": "code",
   "execution_count": null,
   "metadata": {},
   "outputs": [],
   "source": [
    "finalPairs=[]\n",
    "\n",
    "marked=set()\n",
    "\n",
    "for i in range(len(dataset)):\n",
    "    if(dataset.iloc[i,0] not in marked):\n",
    "        marked.add(dataset.iloc[i,0])\n",
    "        mseScore= 10\n",
    "\n",
    "        for j in range(i+1, len(dataset)):\n",
    "            if(dataset.iloc[j,0] not in marked):\n",
    "                mseScore=min(mseScore, mean_squared_error(dataset.iloc[i,2:], dataset.iloc[j, 2:]))\n",
    "\n",
    "                if(mseScore <= 1.2):\n",
    "                    pair= (dataset.iloc[i,0], dataset.iloc[j,0], mseScore)\n",
    "                    finalPairs.append(pair)\n",
    "                    marked.add(dataset.iloc[j,0])\n",
    "                    break\n",
    "\n",
    "\n",
    "\n"
   ]
  },
  {
   "cell_type": "code",
   "execution_count": null,
   "metadata": {},
   "outputs": [],
   "source": [
    "# making a dataset for the pairs\n",
    "\n",
    "couplesRecord={\"PersonId 1\":[], \"PersonId 2\":[], \"VaryScore\":[]}\n",
    "couplesDataset= pd.DataFrame(couplesRecord)"
   ]
  },
  {
   "cell_type": "code",
   "execution_count": null,
   "metadata": {},
   "outputs": [],
   "source": [
    "person1= []\n",
    "person2=[]\n",
    "mseList=[]\n",
    "\n",
    "for i in finalPairs:\n",
    "    person1.append(i[0])\n",
    "    person2.append(i[1])\n",
    "    mseList.append(i[2])\n",
    "\n",
    "couplesDataset['PersonId 1']=person1\n",
    "couplesDataset['PersonId 2']=person2\n",
    "couplesDataset['VaryScore']= mseList"
   ]
  },
  {
   "cell_type": "code",
   "execution_count": null,
   "metadata": {},
   "outputs": [],
   "source": [
    "couplesDataset\n",
    "df = pd.DataFrame(couplesDataset)"
   ]
  },
  {
   "cell_type": "code",
   "execution_count": null,
   "metadata": {},
   "outputs": [],
   "source": [
    "# command to export the file in excel\n",
    "df.to_excel('output.xlsx', index=False)"
   ]
  }
 ],
 "metadata": {
  "kernelspec": {
   "display_name": "Python 3",
   "language": "python",
   "name": "python3"
  },
  "language_info": {
   "codemirror_mode": {
    "name": "ipython",
    "version": 3
   },
   "file_extension": ".py",
   "mimetype": "text/x-python",
   "name": "python",
   "nbconvert_exporter": "python",
   "pygments_lexer": "ipython3",
   "version": "3.12.1"
  }
 },
 "nbformat": 4,
 "nbformat_minor": 2
}
